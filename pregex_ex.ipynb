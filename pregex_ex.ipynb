{
 "cells": [
  {
   "cell_type": "markdown",
   "metadata": {},
   "source": [
    "# pregex 使用说明\n",
    "\n",
    "https://pregex.readthedocs.io/en/latest/documentation/best-practices.html"
   ]
  },
  {
   "cell_type": "code",
   "execution_count": 2,
   "metadata": {},
   "outputs": [
    {
     "data": {
      "text/plain": [
       "['Date',\n",
       " 'Decimal',\n",
       " 'Email',\n",
       " 'Empty',\n",
       " 'HttpUrl',\n",
       " 'IPv4',\n",
       " 'IPv6',\n",
       " 'Integer',\n",
       " 'NegativeDecimal',\n",
       " 'NegativeInteger',\n",
       " 'Numeral',\n",
       " 'PositiveDecimal',\n",
       " 'PositiveInteger',\n",
       " 'Pregex',\n",
       " 'UnsignedDecimal',\n",
       " 'UnsignedInteger',\n",
       " 'Word',\n",
       " 'WordContains',\n",
       " 'WordEndsWith',\n",
       " 'WordStartsWith',\n",
       " '__builtins__',\n",
       " '__cached__',\n",
       " '__doc__',\n",
       " '__file__',\n",
       " '__loader__',\n",
       " '__name__',\n",
       " '__package__',\n",
       " '__path__',\n",
       " '__spec__',\n",
       " 'asr',\n",
       " 'assertions',\n",
       " 'cl',\n",
       " 'classes',\n",
       " 'core',\n",
       " 'essentials',\n",
       " 'exceptions',\n",
       " 'gr',\n",
       " 'groups',\n",
       " 'meta',\n",
       " 'op',\n",
       " 'operators',\n",
       " 'pre',\n",
       " 'qu',\n",
       " 'quantifiers',\n",
       " 'tk',\n",
       " 'tokens']"
      ]
     },
     "execution_count": 2,
     "metadata": {},
     "output_type": "execute_result"
    }
   ],
   "source": [
    "import pregex as px\n",
    "dir(px)"
   ]
  },
  {
   "cell_type": "markdown",
   "metadata": {},
   "source": [
    "# email"
   ]
  },
  {
   "cell_type": "code",
   "execution_count": 3,
   "metadata": {},
   "outputs": [
    {
     "name": "stdout",
     "output_type": "stream",
     "text": [
      "regex: (?:\\B(?=[\\^-`!'*-+#-%=\\-\\/?{-~])|\\b(?=[a-zA-Z\\d]))[\\/-9\\^-~'!*-+#-%A-Z=?](?:[\\/-9\\^-~'!*-+#-%A-Z=\\-?]|\\.(?!\\.)){,62}[\\/-9\\^-~'!*-+#-%A-Z=?]@[a-zA-Z\\d][a-zA-Z\\d\\-]{,61}[a-zA-Z\\d]\\.[a-z]{2,6}\\b\n"
     ]
    },
    {
     "data": {
      "text/plain": [
       "['asw@qq.com']"
      ]
     },
     "execution_count": 3,
     "metadata": {},
     "output_type": "execute_result"
    }
   ],
   "source": [
    "# dir(px.Email())\n",
    "email=px.Email()\n",
    "# dir(email)\n",
    "text=\"hello world asw@qq.com aswaw\"\n",
    "print(\"regex:\",email.get_pattern())\n",
    "email.get_matches(text)"
   ]
  },
  {
   "cell_type": "markdown",
   "metadata": {},
   "source": [
    "# Date"
   ]
  },
  {
   "cell_type": "code",
   "execution_count": 4,
   "metadata": {},
   "outputs": [
    {
     "name": "stdout",
     "output_type": "stream",
     "text": [
      "regex: \\b(?:(?:0[1-9]|\\b[1-3](?:(?<=\\b1)\\d|(?<=\\b3)[0-1]|(?<!\\b3)(?<!\\b1)\\d)\\b)-(?:0[1-9]|\\b1[0-2]\\b)-\\d{4}|(?:0[1-9]|\\b[1-3](?:(?<=\\b1)\\d|(?<=\\b3)[0-1]|(?<!\\b3)(?<!\\b1)\\d)\\b)\\/(?:0[1-9]|\\b1[0-2]\\b)\\/\\d{4}|(?:0[1-9]|\\b1[0-2]\\b)-(?:0[1-9]|\\b[1-3](?:(?<=\\b1)\\d|(?<=\\b3)[0-1]|(?<!\\b3)(?<!\\b1)\\d)\\b)-\\d{4}|(?:0[1-9]|\\b1[0-2]\\b)\\/(?:0[1-9]|\\b[1-3](?:(?<=\\b1)\\d|(?<=\\b3)[0-1]|(?<!\\b3)(?<!\\b1)\\d)\\b)\\/\\d{4}|\\d{4}-(?:0[1-9]|\\b1[0-2]\\b)-(?:0[1-9]|\\b[1-3](?:(?<=\\b1)\\d|(?<=\\b3)[0-1]|(?<!\\b3)(?<!\\b1)\\d)\\b)|\\d{4}\\/(?:0[1-9]|\\b1[0-2]\\b)\\/(?:0[1-9]|\\b[1-3](?:(?<=\\b1)\\d|(?<=\\b3)[0-1]|(?<!\\b3)(?<!\\b1)\\d)\\b)|(?:0[1-9]|\\b[1-3](?:(?<=\\b1)\\d|(?<=\\b3)[0-1]|(?<!\\b3)(?<!\\b1)\\d)\\b)-(?:0[1-9]|\\b1[0-2]\\b)-\\d{2}|(?:0[1-9]|\\b[1-3](?:(?<=\\b1)\\d|(?<=\\b3)[0-1]|(?<!\\b3)(?<!\\b1)\\d)\\b)\\/(?:0[1-9]|\\b1[0-2]\\b)\\/\\d{2}|(?:0[1-9]|\\b1[0-2]\\b)-(?:0[1-9]|\\b[1-3](?:(?<=\\b1)\\d|(?<=\\b3)[0-1]|(?<!\\b3)(?<!\\b1)\\d)\\b)-\\d{2}|(?:0[1-9]|\\b1[0-2]\\b)\\/(?:0[1-9]|\\b[1-3](?:(?<=\\b1)\\d|(?<=\\b3)[0-1]|(?<!\\b3)(?<!\\b1)\\d)\\b)\\/\\d{2}|\\d{2}-(?:0[1-9]|\\b1[0-2]\\b)-(?:0[1-9]|\\b[1-3](?:(?<=\\b1)\\d|(?<=\\b3)[0-1]|(?<!\\b3)(?<!\\b1)\\d)\\b)|\\d{2}\\/(?:0[1-9]|\\b1[0-2]\\b)\\/(?:0[1-9]|\\b[1-3](?:(?<=\\b1)\\d|(?<=\\b3)[0-1]|(?<!\\b3)(?<!\\b1)\\d)\\b)|(?:0[1-9]|\\b[1-3](?:(?<=\\b1)\\d|(?<=\\b3)[0-1]|(?<!\\b3)(?<!\\b1)\\d)\\b)-[1-9]-\\d{4}|(?:0[1-9]|\\b[1-3](?:(?<=\\b1)\\d|(?<=\\b3)[0-1]|(?<!\\b3)(?<!\\b1)\\d)\\b)\\/[1-9]\\/\\d{4}|[1-9]-(?:0[1-9]|\\b[1-3](?:(?<=\\b1)\\d|(?<=\\b3)[0-1]|(?<!\\b3)(?<!\\b1)\\d)\\b)-\\d{4}|[1-9]\\/(?:0[1-9]|\\b[1-3](?:(?<=\\b1)\\d|(?<=\\b3)[0-1]|(?<!\\b3)(?<!\\b1)\\d)\\b)\\/\\d{4}|\\d{4}-[1-9]-(?:0[1-9]|\\b[1-3](?:(?<=\\b1)\\d|(?<=\\b3)[0-1]|(?<!\\b3)(?<!\\b1)\\d)\\b)|\\d{4}\\/[1-9]\\/(?:0[1-9]|\\b[1-3](?:(?<=\\b1)\\d|(?<=\\b3)[0-1]|(?<!\\b3)(?<!\\b1)\\d)\\b)|(?:0[1-9]|\\b[1-3](?:(?<=\\b1)\\d|(?<=\\b3)[0-1]|(?<!\\b3)(?<!\\b1)\\d)\\b)-[1-9]-\\d{2}|(?:0[1-9]|\\b[1-3](?:(?<=\\b1)\\d|(?<=\\b3)[0-1]|(?<!\\b3)(?<!\\b1)\\d)\\b)\\/[1-9]\\/\\d{2}|[1-9]-(?:0[1-9]|\\b[1-3](?:(?<=\\b1)\\d|(?<=\\b3)[0-1]|(?<!\\b3)(?<!\\b1)\\d)\\b)-\\d{2}|[1-9]\\/(?:0[1-9]|\\b[1-3](?:(?<=\\b1)\\d|(?<=\\b3)[0-1]|(?<!\\b3)(?<!\\b1)\\d)\\b)\\/\\d{2}|\\d{2}-[1-9]-(?:0[1-9]|\\b[1-3](?:(?<=\\b1)\\d|(?<=\\b3)[0-1]|(?<!\\b3)(?<!\\b1)\\d)\\b)|\\d{2}\\/[1-9]\\/(?:0[1-9]|\\b[1-3](?:(?<=\\b1)\\d|(?<=\\b3)[0-1]|(?<!\\b3)(?<!\\b1)\\d)\\b)|[1-9]-(?:0[1-9]|\\b1[0-2]\\b)-\\d{4}|[1-9]\\/(?:0[1-9]|\\b1[0-2]\\b)\\/\\d{4}|(?:0[1-9]|\\b1[0-2]\\b)-[1-9]-\\d{4}|(?:0[1-9]|\\b1[0-2]\\b)\\/[1-9]\\/\\d{4}|\\d{4}-(?:0[1-9]|\\b1[0-2]\\b)-[1-9]|\\d{4}\\/(?:0[1-9]|\\b1[0-2]\\b)\\/[1-9]|[1-9]-(?:0[1-9]|\\b1[0-2]\\b)-\\d{2}|[1-9]\\/(?:0[1-9]|\\b1[0-2]\\b)\\/\\d{2}|(?:0[1-9]|\\b1[0-2]\\b)-[1-9]-\\d{2}|(?:0[1-9]|\\b1[0-2]\\b)\\/[1-9]\\/\\d{2}|\\d{2}-(?:0[1-9]|\\b1[0-2]\\b)-[1-9]|\\d{2}\\/(?:0[1-9]|\\b1[0-2]\\b)\\/[1-9]|[1-9]-[1-9]-\\d{4}|[1-9]\\/[1-9]\\/\\d{4}|[1-9]-[1-9]-\\d{4}|[1-9]\\/[1-9]\\/\\d{4}|\\d{4}-[1-9]-[1-9]|\\d{4}\\/[1-9]\\/[1-9]|[1-9]-[1-9]-\\d{2}|[1-9]\\/[1-9]\\/\\d{2}|[1-9]-[1-9]-\\d{2}|[1-9]\\/[1-9]\\/\\d{2}|\\d{2}-[1-9]-[1-9]|\\d{2}\\/[1-9]\\/[1-9])\\b\n"
     ]
    },
    {
     "data": {
      "text/plain": [
       "['2021-05-01']"
      ]
     },
     "execution_count": 4,
     "metadata": {},
     "output_type": "execute_result"
    }
   ],
   "source": [
    "date=px.Date()\n",
    "text=\"hello world asw@qq.com 2021-05-01 aswaw\"\n",
    "# date.\n",
    "print(\"regex:\",date.get_pattern())\n",
    "date.get_matches(text)"
   ]
  },
  {
   "cell_type": "markdown",
   "metadata": {},
   "source": [
    "# HttpUrl\n"
   ]
  },
  {
   "cell_type": "code",
   "execution_count": 5,
   "metadata": {},
   "outputs": [
    {
     "name": "stdout",
     "output_type": "stream",
     "text": [
      "regex: \\b(?:https?:\\/\\/)?(?:www\\.)?(?:[a-zA-Z\\d][a-zA-Z\\d\\-]{,61}[a-zA-Z\\d]\\.)*[a-zA-Z\\d][a-zA-Z\\d\\-]{,61}[a-zA-Z\\d]\\.[a-z]{2,6}(?::\\d{1,4})?(?:\\/[!-.0-~]+)*\\/?(?:(?<=[{-~!-\\/:-@\\[-`])\\B|(?<=\\w)\\b)\n"
     ]
    },
    {
     "data": {
      "text/plain": [
       "['https://pregex.readthedocs.io/en/latest/documentation/modules/core/pre.html',\n",
       " 'https://pregex.readthedocs.io/en/lation/modules/core/pre.html']"
      ]
     },
     "execution_count": 5,
     "metadata": {},
     "output_type": "execute_result"
    }
   ],
   "source": [
    "http=px.HttpUrl()\n",
    "text=\" zzz https://pregex.readthedocs.io/en/latest/documentation/modules/core/pre.html  dddd https://pregex.readthedocs.io/en/lation/modules/core/pre.html \"\n",
    "print(\"regex:\",http.get_pattern())\n",
    "http.get_matches(text)"
   ]
  },
  {
   "cell_type": "markdown",
   "metadata": {},
   "source": [
    "# 自建邮箱"
   ]
  },
  {
   "cell_type": "code",
   "execution_count": 6,
   "metadata": {},
   "outputs": [
    {
     "data": {
      "text/plain": [
       "['aw12aa@www.co']"
      ]
     },
     "execution_count": 6,
     "metadata": {},
     "output_type": "execute_result"
    }
   ],
   "source": [
    "pre:px.Pregex=px.Word()+\"@\"+px.Word()+\".\"+px.Word()\n",
    "# pre\n",
    "text=\" zzz aw12aa@www.co /en/lation/modules/core/pre.html \"\n",
    "pre.get_matches(text)"
   ]
  },
  {
   "cell_type": "markdown",
   "metadata": {},
   "source": [
    "# Follow 句子"
   ]
  },
  {
   "cell_type": "code",
   "execution_count": 7,
   "metadata": {},
   "outputs": [
    {
     "data": {
      "text/plain": [
       "[' @TriBeCa', ' @TriBeCaDog', ' @TriBeCa', ' @TriBeCaDog']"
      ]
     },
     "execution_count": 7,
     "metadata": {},
     "output_type": "execute_result"
    }
   ],
   "source": [
    "# twitter\n",
    "twitter=\" @\"+px.Word() \n",
    "pre:px.Pregex=twitter\n",
    "# pre\n",
    "text=\"Here is our guide on how to 123@qq.com give 123@qq.com CBD oil to dogs. Follow us on Twitter @TriBeCa and @TriBeCaDog. Follow us on Facebook @TriBeCa and @TriBeCaDog.\"\n",
    "pre.get_matches(text)"
   ]
  },
  {
   "cell_type": "code",
   "execution_count": 8,
   "metadata": {},
   "outputs": [
    {
     "data": {
      "text/plain": [
       "['AtLeast',\n",
       " 'AtLeastAtMost',\n",
       " 'AtMost',\n",
       " 'Exactly',\n",
       " 'Indefinite',\n",
       " 'OneOrMore',\n",
       " 'Optional',\n",
       " '_Union',\n",
       " '__Quantifier',\n",
       " '__builtins__',\n",
       " '__cached__',\n",
       " '__doc__',\n",
       " '__file__',\n",
       " '__loader__',\n",
       " '__name__',\n",
       " '__package__',\n",
       " '__spec__',\n",
       " '_pre']"
      ]
     },
     "execution_count": 8,
     "metadata": {},
     "output_type": "execute_result"
    }
   ],
   "source": [
    "dir(px.qu)"
   ]
  },
  {
   "cell_type": "code",
   "execution_count": 13,
   "metadata": {},
   "outputs": [
    {
     "data": {
      "text/plain": [
       "['Follow us on Twitter @TriBeCa and @TriBeCaDog.',\n",
       " 'Follow us on Facebook @TriBeCa and @TriBeCaDog.']"
      ]
     },
     "execution_count": 13,
     "metadata": {},
     "output_type": "execute_result"
    }
   ],
   "source": [
    "twitter=\" @\"+px.Word() \n",
    "pre:px.Pregex=\"Follow us on \"+px.Word()+twitter +\" and\"+twitter+\".\"\n",
    "# pre:px.Pregex=\"Follow us on \"+px.Word()+twitter+\" and \"+ twitter\n",
    "# pre\n",
    "text=\"Here is our guide on how to 123@qq.com give 123@qq.com CBD oil to dogs. Follow us on Twitter @TriBeCa and @TriBeCaDog. Follow us on Facebook @TriBeCa and @TriBeCaDog.\"\n",
    "pre.get_matches(text)"
   ]
  },
  {
   "cell_type": "code",
   "execution_count": 14,
   "metadata": {},
   "outputs": [
    {
     "data": {
      "text/plain": [
       "'Follow us on \\\\b\\\\w+\\\\b @\\\\b\\\\w+\\\\b and @\\\\b\\\\w+\\\\b\\\\.'"
      ]
     },
     "execution_count": 14,
     "metadata": {},
     "output_type": "execute_result"
    }
   ],
   "source": [
    "pre.get_pattern()"
   ]
  },
  {
   "cell_type": "code",
   "execution_count": null,
   "metadata": {},
   "outputs": [],
   "source": []
  },
  {
   "cell_type": "markdown",
   "metadata": {},
   "source": []
  },
  {
   "cell_type": "code",
   "execution_count": null,
   "metadata": {},
   "outputs": [],
   "source": [
    "cnn_mail=px.Word()+\"@cnn.com\"\n",
    "pre:px.Pregex=cnn_mail\n",
    "# pre:px.Pregex=\"Follow us on \"+px.Word()+twitter+\" and \"+ twitter\n",
    "# pre\n",
    "text=\"Here is our guide on how to 123@qq.com give 123@qq.com CBD oil to dogs. Follow us on Twitter abc@cnn.com and @TriBeCaDog. Follow us on Facebook @TriBeCa and @TriBeCaDog.\"\n",
    "pre.get_matches(text)"
   ]
  },
  {
   "cell_type": "code",
   "execution_count": 10,
   "metadata": {},
   "outputs": [],
   "source": [
    "from pregex.core.pre import Pregex\n",
    "from pregex.core.classes import AnyDigit\n",
    "from pregex.core.operators import Either\n",
    "from pregex.meta.essentials import HttpUrl, IPv4"
   ]
  }
 ],
 "metadata": {
  "kernelspec": {
   "display_name": "Python 3.9.7 ('base')",
   "language": "python",
   "name": "python3"
  },
  "language_info": {
   "codemirror_mode": {
    "name": "ipython",
    "version": 3
   },
   "file_extension": ".py",
   "mimetype": "text/x-python",
   "name": "python",
   "nbconvert_exporter": "python",
   "pygments_lexer": "ipython3",
   "version": "3.9.7"
  },
  "orig_nbformat": 4,
  "vscode": {
   "interpreter": {
    "hash": "e79aa55e72b2ec1a33bdd7fcd3d7f98ac2f25b43f807273b45569b1920dd7a57"
   }
  }
 },
 "nbformat": 4,
 "nbformat_minor": 2
}
