{
 "cells": [
  {
   "cell_type": "code",
   "execution_count": 1,
   "metadata": {},
   "outputs": [
    {
     "name": "stdout",
     "output_type": "stream",
     "text": [
      "text: Here is our guide on how to 123@qq.com give 123@qq.com CBD oil to dogs. Follow us on Twitter @TriBeCa and @TriBeCaDog. Follow us on Facebook @TriBeCa and @TriBeCaDog.\n",
      "\n",
      "\n",
      "replace:\n",
      "new_regexs [{'regex_key': 'follow_characters', 'regex': 'Follow us on (.*?) @(.*?) and @(.*?).\\\\.', 'replace': ''}, {'regex_key': 'email', 'regex': '([A-Za-z0-9]+[.-_])*[A-Za-z0-9]+@[A-Za-z0-9-]+(\\\\.[A-Z|a-z]{2,})+', 'replace': 'your_email_address'}]\n",
      "Here is our guide on how to your_email_address give your_email_address CBD oil to dogs.  \n",
      "\n",
      "\n",
      "match:\n",
      "new_regexs [{'regex_key': 'follow_characters', 'regex': 'Follow us on (.*?) @(.*?) and @(.*?).\\\\.', 'replace': ''}, {'regex_key': 'email', 'regex': '([A-Za-z0-9]+[.-_])*[A-Za-z0-9]+@[A-Za-z0-9-]+(\\\\.[A-Z|a-z]{2,})+', 'replace': 'your_email_address'}]\n",
      "{'matchNum': 1, 'start': 72, 'end': 118, 'match': 'Follow us on Twitter @TriBeCa and @TriBeCaDog.', 'data': <re.Match object; span=(72, 118), match='Follow us on Twitter @TriBeCa and @TriBeCaDog.'>, 'regex': 'Follow us on (.*?) @(.*?) and @(.*?).\\\\.', 'regex_index': 0}\n",
      "{'matchNum': 2, 'start': 119, 'end': 166, 'match': 'Follow us on Facebook @TriBeCa and @TriBeCaDog.', 'data': <re.Match object; span=(119, 166), match='Follow us on Facebook @TriBeCa and @TriBeCaDog.'>, 'regex': 'Follow us on (.*?) @(.*?) and @(.*?).\\\\.', 'regex_index': 0}\n",
      "{'matchNum': 1, 'start': 28, 'end': 38, 'match': '123@qq.com', 'data': <re.Match object; span=(28, 38), match='123@qq.com'>, 'regex': '([A-Za-z0-9]+[.-_])*[A-Za-z0-9]+@[A-Za-z0-9-]+(\\\\.[A-Z|a-z]{2,})+', 'regex_index': 1}\n",
      "{'matchNum': 2, 'start': 44, 'end': 54, 'match': '123@qq.com', 'data': <re.Match object; span=(44, 54), match='123@qq.com'>, 'regex': '([A-Za-z0-9]+[.-_])*[A-Za-z0-9]+@[A-Za-z0-9-]+(\\\\.[A-Z|a-z]{2,})+', 'regex_index': 1}\n"
     ]
    }
   ],
   "source": [
    "from tkitRegex import regex_plus,REGEX_DICT\n",
    "regexs=[\n",
    "    {\n",
    "        \"regex_key\":'follow_characters',\n",
    "        \"replace\":''\n",
    "    },\n",
    "    {\n",
    "        \"regex_key\":'email',\n",
    "        \"replace\":'your_email_address'\n",
    "    }\n",
    "]\n",
    "text=\"Here is our guide on how to 123@qq.com give 123@qq.com CBD oil to dogs. Follow us on Twitter @TriBeCa and @TriBeCaDog. Follow us on Facebook @TriBeCa and @TriBeCaDog.\"\n",
    "\n",
    "print(\"text:\",text)\n",
    "print(\"\\n\\nreplace:\")\n",
    "out=regex_plus(text,regexs=regexs,test=True,do=\"replace\")\n",
    "print(out)\n",
    "print(\"\\n\\nmatch:\")\n",
    "for it in regex_plus(text,regexs=regexs,test=True,do=\"match\"):\n",
    "    print(it)"
   ]
  },
  {
   "cell_type": "markdown",
   "metadata": {},
   "source": [
    "# 显示所有的"
   ]
  },
  {
   "cell_type": "code",
   "execution_count": 3,
   "metadata": {},
   "outputs": [
    {
     "data": {
      "text/plain": [
       "dict_keys(['email', 'email_domain', 'follow_characters'])"
      ]
     },
     "execution_count": 3,
     "metadata": {},
     "output_type": "execute_result"
    }
   ],
   "source": [
    "REGEX_DICT.keys()"
   ]
  },
  {
   "cell_type": "code",
   "execution_count": 4,
   "metadata": {},
   "outputs": [
    {
     "data": {
      "text/plain": [
       "{'email': {'regex': '([A-Za-z0-9]+[.-_])*[A-Za-z0-9]+@[A-Za-z0-9-]+(\\\\.[A-Z|a-z]{2,})+',\n",
       "  'type': 'replace',\n",
       "  'description': \"\\n        用于替换email\\n        Just playing with Reg Ex. This to validate emails in following ways\\n\\n        The email couldn't start or finish with a dot\\n\\n        The email shouldn't contain spaces into the string\\n\\n        The email shouldn't contain special chars (<:, *,ecc)\\n\\n        The email could contain dots in the middle of mail address before the @\\n\\n        The email could contain a double doman ( '.de.org' or similar rarity)\\n\\n        https://regex101.com/library/SOgUIV?orderBy=RELEVANCE&search=email\",\n",
       "  'test': {'text': 'Here 123@qq.com is our guide on how to 123@qq.com give CBD oil to dogs. Follow us on Twitter @TriBeCa and @TriBeCaDog. Follow us on Facebook @TriBeCa and @TriBeCaDog.'},\n",
       "  'status': True},\n",
       " 'email_domain': {'regex': ' .*@(\\\\S+)',\n",
       "  'type': 'replace',\n",
       "  'description': '\\n    邮箱域名过滤\\n\\n        https://regex101.com/library/SOgUIV?orderBy=RELEVANCE&search=email',\n",
       "  'test': {},\n",
       "  'status': False},\n",
       " 'follow_characters': {'regex': 'Follow us on (.*?) @(.*?) and @(.*?).\\\\.',\n",
       "  'type': 'replace',\n",
       "  'description': '\\n        删除和移除follow 字符\\n\\n        ',\n",
       "  'demo': 'sss',\n",
       "  'test': {'text': 'Here is our guide on how to give CBD oil to dogs. Follow us on Twitter @TriBeCa and @TriBeCaDog. Follow us on Facebook @TriBeCa and @TriBeCaDog.'},\n",
       "  'status': True}}"
      ]
     },
     "execution_count": 4,
     "metadata": {},
     "output_type": "execute_result"
    }
   ],
   "source": [
    "REGEX_DICT"
   ]
  }
 ],
 "metadata": {
  "kernelspec": {
   "display_name": "Python 3.10.5 64-bit",
   "language": "python",
   "name": "python3"
  },
  "language_info": {
   "codemirror_mode": {
    "name": "ipython",
    "version": 3
   },
   "file_extension": ".py",
   "mimetype": "text/x-python",
   "name": "python",
   "nbconvert_exporter": "python",
   "pygments_lexer": "ipython3",
   "version": "3.10.5"
  },
  "orig_nbformat": 4,
  "vscode": {
   "interpreter": {
    "hash": "767d51c1340bd893661ea55ea3124f6de3c7a262a8b4abca0554b478b1e2ff90"
   }
  }
 },
 "nbformat": 4,
 "nbformat_minor": 2
}
