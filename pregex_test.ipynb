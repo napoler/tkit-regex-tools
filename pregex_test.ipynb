{
 "cells": [
  {
   "cell_type": "code",
   "execution_count": 1,
   "metadata": {},
   "outputs": [
    {
     "name": "stdout",
     "output_type": "stream",
     "text": [
      "/bin/bash:行1: pip：未找到命令\n"
     ]
    }
   ],
   "source": [
    "! pip install pregex==2.1.0"
   ]
  },
  {
   "cell_type": "code",
   "execution_count": 1,
   "metadata": {},
   "outputs": [],
   "source": [
    "from pregex.core.classes import AnyLetter, AnyDigit, AnyFrom\n",
    "from pregex.core.quantifiers import Optional, AtLeastAtMost\n",
    "from pregex.core.operators import Either\n",
    "from pregex.core.groups import Capture\n",
    "from pregex.core.pre import Pregex"
   ]
  },
  {
   "cell_type": "markdown",
   "metadata": {},
   "source": [
    "# 匹配字符\n",
    "AnyLetter \n",
    "AnyDigit 匹配任何数字字符\n",
    "AnyFrom\n",
    "\n",
    "# \n",
    "Optional 使可选。\n",
    "AtLeastAtMost  至少，至多\n",
    "\n",
    "Either 任何一个\n",
    "\n",
    "Capture 捕获\n",
    "\n",
    "\n",
    "\n",
    "\n",
    "\n",
    "\n",
    "\n",
    "Optional # Represents quantifier '?' 可选#表示量词“？”\n",
    "Indefinite # Represents quantifier '*' 不定#表示量词“*”\n",
    "OneOrMore # Represents quantifier '+' 一个或多个#表示量词“+”\n",
    "Exactly # Represents quantifier '{n}' 正好#表示量词“｛n｝”\n",
    "AtLeast # Represents quantifier '{n,}' 至少#表示量词“｛n，｝”\n",
    "AtMost # Represents quantifier '{,n}' AtMost#表示量词“｛，n｝\n",
    "AtLeastAtMost # Represents quantifier '{n,m}' AtLeastAtMost#表示量词“｛n，m｝”"
   ]
  },
  {
   "cell_type": "code",
   "execution_count": 3,
   "metadata": {},
   "outputs": [
    {
     "data": {
      "text/plain": [
       "(?:https?:\\/\\/)?(?:(?:www\\.)?([\\dA-Za-z][\\d\\--.A-Za-z]{1,61}[\\dA-Za-z])\\.(?:com|org)|(?:\\d{1,3}\\.){3}\\d{1,3}:\\d{4})"
      ]
     },
     "execution_count": 3,
     "metadata": {},
     "output_type": "execute_result"
    }
   ],
   "source": [
    "# Define main sub-patterns.\n",
    "http_protocol = Optional('http' + Optional('s') + '://')\n",
    "\n",
    "www = Optional('www.')\n",
    "\n",
    "alphanum = AnyLetter() | AnyDigit()\n",
    "\n",
    "domain_name = \\\n",
    "    alphanum + \\\n",
    "    AtLeastAtMost(alphanum | AnyFrom('-', '.'), n=1, m=61) + \\\n",
    "    alphanum\n",
    "\n",
    "tld = '.' + Either('com', 'org')\n",
    "\n",
    "ip_octet = AnyDigit().at_least_at_most(n=1, m=3)\n",
    "\n",
    "port_number = 4 * AnyDigit()\n",
    "\n",
    "# Combine sub-patterns together.\n",
    "pre: Pregex = \\\n",
    "    http_protocol + \\\n",
    "    Either(\n",
    "        www + Capture(domain_name) + tld,\n",
    "        3 * (ip_octet + '.') + ip_octet + ':' + port_number\n",
    "    )\n",
    "    \n",
    "pre"
   ]
  },
  {
   "cell_type": "code",
   "execution_count": 48,
   "metadata": {},
   "outputs": [
    {
     "data": {
      "text/plain": [
       "['1@qq.com', 'p@youtube.com']"
      ]
     },
     "execution_count": 48,
     "metadata": {},
     "output_type": "execute_result"
    }
   ],
   "source": [
    "text = \"text--192.168.1.1:8000--te 111@qq.com xt--http://www.wikipedia.org--text-- http@youtube.com --text\"\n",
    "# Combine sub-patterns together.\n",
    "\n",
    "alphanum = AnyLetter() | AnyDigit()\n",
    "pre: Pregex = \\\n",
    "    alphanum + \\\n",
    "    \"@\" + Capture(domain_name)\n",
    "\n",
    "    \n",
    "pre\n",
    "matches = pre.get_matches(text)\n",
    "matches\n"
   ]
  },
  {
   "cell_type": "code",
   "execution_count": 4,
   "metadata": {},
   "outputs": [],
   "source": [
    "text = \"text--192.168.1.1:8000--text--http://www.wikipedia.org--text--https://youtube.com--text\""
   ]
  },
  {
   "cell_type": "code",
   "execution_count": 6,
   "metadata": {},
   "outputs": [
    {
     "data": {
      "text/plain": [
       "['192.168.1.1:8000', 'http://www.wikipedia.org', 'https://youtube.com']"
      ]
     },
     "execution_count": 6,
     "metadata": {},
     "output_type": "execute_result"
    }
   ],
   "source": [
    "matches = pre.get_matches(text)\n",
    "matches"
   ]
  },
  {
   "cell_type": "markdown",
   "metadata": {},
   "source": []
  },
  {
   "cell_type": "code",
   "execution_count": 12,
   "metadata": {},
   "outputs": [
    {
     "name": "stdout",
     "output_type": "stream",
     "text": [
      "©\n"
     ]
    }
   ],
   "source": [
    "from pregex.core.tokens import Newline, Copyright\n",
    "\n",
    "# Both of these statements are 'True'.\n",
    "Newline().is_exact_match('\\n')\n",
    "Copyright().is_exact_match('©')\n",
    "dir(Copyright())\n",
    "\n",
    "Copyright().print_pattern()"
   ]
  },
  {
   "cell_type": "code",
   "execution_count": 16,
   "metadata": {},
   "outputs": [
    {
     "name": "stdout",
     "output_type": "stream",
     "text": [
      "\\n\n"
     ]
    }
   ],
   "source": [
    "Newline().print_pattern()"
   ]
  },
  {
   "cell_type": "code",
   "execution_count": 17,
   "metadata": {},
   "outputs": [
    {
     "data": {
      "text/plain": [
       "['Backslash',\n",
       " 'Bullet',\n",
       " 'CarriageReturn',\n",
       " 'Copyright',\n",
       " 'Division',\n",
       " 'Dollar',\n",
       " 'Euro',\n",
       " 'FormFeed',\n",
       " 'Infinity',\n",
       " 'Multiplication',\n",
       " 'Newline',\n",
       " 'Pound',\n",
       " 'Registered',\n",
       " 'Rupee',\n",
       " 'Space',\n",
       " 'Tab',\n",
       " 'Trademark',\n",
       " 'VerticalTab',\n",
       " 'WhiteBullet',\n",
       " 'Yen',\n",
       " '__Token',\n",
       " '__builtins__',\n",
       " '__cached__',\n",
       " '__doc__',\n",
       " '__file__',\n",
       " '__loader__',\n",
       " '__name__',\n",
       " '__package__',\n",
       " '__spec__',\n",
       " '_pre']"
      ]
     },
     "execution_count": 17,
     "metadata": {},
     "output_type": "execute_result"
    }
   ],
   "source": [
    "from pregex.core import tokens\n",
    "dir(tokens) "
   ]
  },
  {
   "cell_type": "code",
   "execution_count": 20,
   "metadata": {},
   "outputs": [
    {
     "data": {
      "text/plain": [
       "\\$"
      ]
     },
     "execution_count": 20,
     "metadata": {},
     "output_type": "execute_result"
    }
   ],
   "source": [
    "tokens.Dollar()"
   ]
  },
  {
   "cell_type": "code",
   "execution_count": 24,
   "metadata": {},
   "outputs": [
    {
     "data": {
      "text/plain": [
       "['\\\\']"
      ]
     },
     "execution_count": 24,
     "metadata": {},
     "output_type": "execute_result"
    }
   ],
   "source": [
    "text=\"\"\"\n",
    "Rope halters are popular equine training aid. Rope halters provide clearer communication with the horse than a leather or web halter. Cotton rope can shrink and/or may stretch. . What do you think? Share your thoughts in the comments below. \\\\\n",
    "\n",
    "Follow us on Twitter @CNNLiving and @CNNOpinion.\n",
    "\n",
    "Follow us on Twitter @TriBeCa and @TriBeCaDog.\n",
    "\n",
    "Follow us on Facebook @TriBeCa and @TriBeCaDog.\n",
    "\n",
    "\"\"\"\n",
    "tokens.Backslash().get_matches(text)\n"
   ]
  },
  {
   "cell_type": "code",
   "execution_count": 38,
   "metadata": {},
   "outputs": [
    {
     "data": {
      "text/plain": [
       "(?:[A-Za-z]Follow us on[A-Za-z]@)?"
      ]
     },
     "execution_count": 38,
     "metadata": {},
     "output_type": "execute_result"
    }
   ],
   "source": [
    "a=Optional(AnyLetter()+'Follow us on'+AnyLetter()+\"@\")\n",
    "pre:Pregex=a\n",
    "pre"
   ]
  },
  {
   "cell_type": "code",
   "execution_count": 39,
   "metadata": {},
   "outputs": [
    {
     "data": {
      "text/plain": [
       "['',\n",
       " '',\n",
       " '',\n",
       " '',\n",
       " '',\n",
       " '',\n",
       " '',\n",
       " '',\n",
       " '',\n",
       " '',\n",
       " '',\n",
       " '',\n",
       " '',\n",
       " '',\n",
       " '',\n",
       " '',\n",
       " '',\n",
       " '',\n",
       " '',\n",
       " '',\n",
       " '',\n",
       " '',\n",
       " '',\n",
       " '',\n",
       " '',\n",
       " '',\n",
       " '',\n",
       " '',\n",
       " '',\n",
       " '',\n",
       " '',\n",
       " '',\n",
       " '',\n",
       " '',\n",
       " '',\n",
       " '',\n",
       " '',\n",
       " '',\n",
       " '',\n",
       " '',\n",
       " '',\n",
       " '',\n",
       " '',\n",
       " '',\n",
       " '',\n",
       " '',\n",
       " '',\n",
       " '',\n",
       " '',\n",
       " '',\n",
       " '',\n",
       " '',\n",
       " '',\n",
       " '',\n",
       " '',\n",
       " '',\n",
       " '',\n",
       " '',\n",
       " '',\n",
       " '',\n",
       " '',\n",
       " '',\n",
       " '',\n",
       " '',\n",
       " '',\n",
       " '',\n",
       " '',\n",
       " '',\n",
       " '',\n",
       " '',\n",
       " '',\n",
       " '',\n",
       " '',\n",
       " '',\n",
       " '',\n",
       " '',\n",
       " '',\n",
       " '',\n",
       " '',\n",
       " '',\n",
       " '',\n",
       " '',\n",
       " '',\n",
       " '',\n",
       " '',\n",
       " '',\n",
       " '',\n",
       " '',\n",
       " '',\n",
       " '',\n",
       " '',\n",
       " '',\n",
       " '',\n",
       " '',\n",
       " '',\n",
       " '',\n",
       " '',\n",
       " '',\n",
       " '',\n",
       " '',\n",
       " '',\n",
       " '',\n",
       " '',\n",
       " '',\n",
       " '',\n",
       " '',\n",
       " '',\n",
       " '',\n",
       " '',\n",
       " '',\n",
       " '',\n",
       " '',\n",
       " '',\n",
       " '',\n",
       " '',\n",
       " '',\n",
       " '',\n",
       " '',\n",
       " '',\n",
       " '',\n",
       " '',\n",
       " '',\n",
       " '',\n",
       " '',\n",
       " '',\n",
       " '',\n",
       " '',\n",
       " '',\n",
       " '',\n",
       " '',\n",
       " '',\n",
       " '',\n",
       " '',\n",
       " '',\n",
       " '',\n",
       " '',\n",
       " '',\n",
       " '',\n",
       " '',\n",
       " '',\n",
       " '',\n",
       " '',\n",
       " '',\n",
       " '',\n",
       " '',\n",
       " '',\n",
       " '',\n",
       " '',\n",
       " '',\n",
       " '',\n",
       " '',\n",
       " '',\n",
       " '',\n",
       " '',\n",
       " '',\n",
       " '',\n",
       " '',\n",
       " '',\n",
       " '',\n",
       " '',\n",
       " '',\n",
       " '',\n",
       " '',\n",
       " '',\n",
       " '',\n",
       " '',\n",
       " '',\n",
       " '',\n",
       " '',\n",
       " '',\n",
       " '',\n",
       " '',\n",
       " '',\n",
       " '',\n",
       " '',\n",
       " '',\n",
       " '',\n",
       " '',\n",
       " '',\n",
       " '',\n",
       " '',\n",
       " '',\n",
       " '',\n",
       " '',\n",
       " '',\n",
       " '',\n",
       " '',\n",
       " '',\n",
       " '',\n",
       " '',\n",
       " '',\n",
       " '',\n",
       " '',\n",
       " '',\n",
       " '',\n",
       " '',\n",
       " '',\n",
       " '',\n",
       " '',\n",
       " '',\n",
       " '',\n",
       " '',\n",
       " '',\n",
       " '',\n",
       " '',\n",
       " '',\n",
       " '',\n",
       " '',\n",
       " '',\n",
       " '',\n",
       " '',\n",
       " '',\n",
       " '',\n",
       " '',\n",
       " '',\n",
       " '',\n",
       " '',\n",
       " '',\n",
       " '',\n",
       " '',\n",
       " '',\n",
       " '',\n",
       " '',\n",
       " '',\n",
       " '',\n",
       " '',\n",
       " '',\n",
       " '',\n",
       " '',\n",
       " '',\n",
       " '',\n",
       " '',\n",
       " '',\n",
       " '',\n",
       " '',\n",
       " '',\n",
       " '',\n",
       " '',\n",
       " '',\n",
       " '',\n",
       " '',\n",
       " '',\n",
       " '',\n",
       " '',\n",
       " '',\n",
       " '',\n",
       " '',\n",
       " '',\n",
       " '',\n",
       " '',\n",
       " '',\n",
       " '',\n",
       " '',\n",
       " '',\n",
       " '',\n",
       " '',\n",
       " '',\n",
       " '',\n",
       " '',\n",
       " '',\n",
       " '',\n",
       " '',\n",
       " '',\n",
       " '',\n",
       " '',\n",
       " '',\n",
       " '',\n",
       " '',\n",
       " '',\n",
       " '',\n",
       " '',\n",
       " '',\n",
       " '',\n",
       " '',\n",
       " '',\n",
       " '',\n",
       " '',\n",
       " '',\n",
       " '',\n",
       " '',\n",
       " '',\n",
       " '',\n",
       " '',\n",
       " '',\n",
       " '',\n",
       " '',\n",
       " '',\n",
       " '',\n",
       " '',\n",
       " '',\n",
       " '',\n",
       " '',\n",
       " '',\n",
       " '',\n",
       " '',\n",
       " '',\n",
       " '',\n",
       " '',\n",
       " '',\n",
       " '',\n",
       " '',\n",
       " '',\n",
       " '',\n",
       " '',\n",
       " '',\n",
       " '',\n",
       " '',\n",
       " '',\n",
       " '',\n",
       " '',\n",
       " '',\n",
       " '',\n",
       " '',\n",
       " '',\n",
       " '',\n",
       " '',\n",
       " '',\n",
       " '',\n",
       " '',\n",
       " '',\n",
       " '',\n",
       " '',\n",
       " '',\n",
       " '',\n",
       " '',\n",
       " '',\n",
       " '',\n",
       " '',\n",
       " '',\n",
       " '',\n",
       " '',\n",
       " '',\n",
       " '',\n",
       " '',\n",
       " '',\n",
       " '',\n",
       " '',\n",
       " '',\n",
       " '',\n",
       " '',\n",
       " '',\n",
       " '',\n",
       " '',\n",
       " '',\n",
       " '',\n",
       " '',\n",
       " '',\n",
       " '',\n",
       " '',\n",
       " '',\n",
       " '',\n",
       " '',\n",
       " '',\n",
       " '',\n",
       " '',\n",
       " '',\n",
       " '',\n",
       " '',\n",
       " '',\n",
       " '',\n",
       " '',\n",
       " '',\n",
       " '',\n",
       " '',\n",
       " '',\n",
       " '',\n",
       " '',\n",
       " '',\n",
       " '',\n",
       " '',\n",
       " '',\n",
       " '',\n",
       " '',\n",
       " '',\n",
       " '',\n",
       " '',\n",
       " '',\n",
       " '',\n",
       " '',\n",
       " '',\n",
       " '',\n",
       " '',\n",
       " '',\n",
       " '',\n",
       " '',\n",
       " '',\n",
       " '',\n",
       " '',\n",
       " '',\n",
       " '',\n",
       " '',\n",
       " '',\n",
       " '']"
      ]
     },
     "execution_count": 39,
     "metadata": {},
     "output_type": "execute_result"
    }
   ],
   "source": [
    "pre.get_matches(text)"
   ]
  }
 ],
 "metadata": {
  "kernelspec": {
   "display_name": "Python 3.9.7 ('base')",
   "language": "python",
   "name": "python3"
  },
  "language_info": {
   "codemirror_mode": {
    "name": "ipython",
    "version": 3
   },
   "file_extension": ".py",
   "mimetype": "text/x-python",
   "name": "python",
   "nbconvert_exporter": "python",
   "pygments_lexer": "ipython3",
   "version": "3.9.7"
  },
  "orig_nbformat": 4,
  "vscode": {
   "interpreter": {
    "hash": "e79aa55e72b2ec1a33bdd7fcd3d7f98ac2f25b43f807273b45569b1920dd7a57"
   }
  }
 },
 "nbformat": 4,
 "nbformat_minor": 2
}
