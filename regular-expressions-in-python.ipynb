{
 "cells": [
  {
   "cell_type": "markdown",
   "metadata": {},
   "source": [
    "<h2 style=\"text-align:center;background-color: lightgrey;color: blue;font-family: 'Lucida Console', 'Courier New', monospace;\"> What is a Regular Expression?</h2>\n",
    "<h5 style=\"font-family: 'Lucida Console', 'Courier New', monospace;\">It's a string pattern written in a compact syntax, that allows us to quickly check whether a given string matches or contains a given pattern.</h5>\n",
    "<p style=\"font-family: 'Lucida Console', 'Courier New', monospace;\">A <code>regular expression</code> (<code>regex</code> or <code>regexp</code> for short) is a sequence of characters defining a search pattern, that is, a pattern describing a set of strings. Such patterns can be used to search, edit, and manipulate texts. They can either check if a whole string or its substring matches the given pattern or replace the substring with another one.\n",
    "</p>\n",
    "<p style=\"font-family: 'Lucida Console', 'Courier New', monospace;\">The simplest example of using a regular expression is when we search for some word in a text file or on a web page. For example, if we look for the word <code>love</code>, the string <code>love</code> becomes a simple regular expression — a search pattern that corresponds only to the word <code>love</code> and nothing else. More complicated regular expressions will be able to match a larger number of strings.</p>\n",
    "\n",
    "<p style=\"font-family: 'Lucida Console', 'Courier New', monospace;\">Regular Expressions are used in various tasks such as data pre-processing, rule-based information mining systems, pattern matching, text feature engineering, web scraping, data extraction, etc.</p>\n",
    "\n"
   ]
  },
  {
   "cell_type": "markdown",
   "metadata": {},
   "source": [
    "<h2 style=\"text-align:center;background-color: lightgrey;color: blue;font-family: 'Lucida Console', 'Courier New', monospace;\"> Regular Expressions in Python</h2>\n",
    "<p style=\"font-family: 'Lucida Console', 'Courier New', monospace;\">In Python, regular expressions are supported by the <code>re</code> module. That means that if you want to start using them in your Python scripts, you have to <code>import</code> this module</p>"
   ]
  },
  {
   "cell_type": "code",
   "execution_count": 1,
   "metadata": {
    "execution": {
     "iopub.execute_input": "2021-12-27T14:21:01.271427Z",
     "iopub.status.busy": "2021-12-27T14:21:01.270964Z",
     "iopub.status.idle": "2021-12-27T14:21:01.278707Z",
     "shell.execute_reply": "2021-12-27T14:21:01.277761Z",
     "shell.execute_reply.started": "2021-12-27T14:21:01.271379Z"
    }
   },
   "outputs": [],
   "source": [
    "import re"
   ]
  },
  {
   "cell_type": "code",
   "execution_count": 2,
   "metadata": {},
   "outputs": [
    {
     "name": "stdout",
     "output_type": "stream",
     "text": [
      "A, ASCII, DEBUG, DOTALL, I, IGNORECASE, L, LOCALE, M, MULTILINE, RegexFlag, S, Scanner, T, TEMPLATE, U, UNICODE, VERBOSE, X, _MAXCACHE, __all__, __builtins__, __cached__, __doc__, __file__, __loader__, __name__, __package__, __spec__, __version__, _alphanum_bytes, _alphanum_str, _cache, _compile, _compile_repl, _expand, _locale, _pattern_type, _pickle, _subx, compile, copyreg, enum, error, escape, findall, finditer, fullmatch, functools, match, purge, search, split, sre_compile, sre_parse, sub, subn, template, "
     ]
    }
   ],
   "source": [
    "for i in dir(re):\n",
    "    print(i, end=\", \")"
   ]
  },
  {
   "cell_type": "code",
   "execution_count": 3,
   "metadata": {},
   "outputs": [
    {
     "name": "stdout",
     "output_type": "stream",
     "text": [
      "58\n"
     ]
    }
   ],
   "source": [
    "print(len(dir(re)))"
   ]
  },
  {
   "cell_type": "code",
   "execution_count": 4,
   "metadata": {},
   "outputs": [],
   "source": [
    "# help(re)"
   ]
  },
  {
   "cell_type": "code",
   "execution_count": 5,
   "metadata": {},
   "outputs": [
    {
     "name": "stdout",
     "output_type": "stream",
     "text": [
      "Help on function compile in module re:\n",
      "\n",
      "compile(pattern, flags=0)\n",
      "    Compile a regular expression pattern, returning a pattern object.\n",
      "\n"
     ]
    }
   ],
   "source": [
    "help(re.compile)"
   ]
  },
  {
   "cell_type": "code",
   "execution_count": 6,
   "metadata": {},
   "outputs": [
    {
     "name": "stdout",
     "output_type": "stream",
     "text": [
      "Help on function purge in module re:\n",
      "\n",
      "purge()\n",
      "    Clear the regular expression caches\n",
      "\n"
     ]
    }
   ],
   "source": [
    "help(re.purge)"
   ]
  },
  {
   "cell_type": "markdown",
   "metadata": {},
   "source": [
    "<h2 style=\"text-align:center;background-color: lightgrey;color: blue;font-family: 'Lucida Console', 'Courier New', monospace;\">Special Characters</h2>\n",
    "\n",
    "`^` | Matches the expression to its right at the start of a string. It matches every such instance before each `\\n` in the string.\n",
    "\n",
    "`$` | Matches the expression to its left at the end of a string. It matches every such instance before each `\\n` in the string.\n",
    "\n",
    "`.` | Matches any character except line terminators like `\\n` .\n",
    "\n",
    "`\\` | Escapes special characters or denotes character classes.\n",
    "\n",
    "`A|B` | Matches expression `A` or `B`. If `A` is matched first, `B` is left untried.\n",
    "\n",
    "`+` | Greedily matches the expression to its left 1 or more times.\n",
    "\n",
    "`*` | Greedily matches the expression to its left 0 or more times.\n",
    "\n",
    "`?` | Greedily matches the expression to its left 0 or 1 times. But if `?` is added to qualifiers (`+`, `*`, and `?` itself) it will perform matches in a non-greedy manner.\n",
    "\n",
    "`{m}` | Matches the expression to its left `m` times, and not less.\n",
    "\n",
    "`{m,n}` | Matches the expression to its left `m` to `n` times, and not less.\n",
    "\n",
    "`{m,n}?` | Matches the expression to its left `m` times, and ignores `n`."
   ]
  },
  {
   "cell_type": "markdown",
   "metadata": {},
   "source": [
    "<h2 style=\"text-align:center;background-color: lightgrey;color: blue;font-family: 'Lucida Console', 'Courier New', monospace;\">Character Classes (a.k.a. Special Sequences)</h2>\n",
    "\n",
    "`\\w` | Matches alphanumeric characters, which means `a-z`, `A-Z`, and `0-9`. It also matches the underscore,` _`.\n",
    "\n",
    "`\\d` | Matches digits, which means `0-9`.\n",
    "\n",
    "`\\D` | Matches any non-digits.\n",
    "\n",
    "`\\s` | Matches whitespace characters, which include the `\\t`, `\\n`, `\\r`, and space characters.\n",
    "\n",
    "`\\S`| Matches non-whitespace characters.\n",
    "\n",
    "`\\b` | Matches the boundary (or empty string) at the start and end of a word, that is, between `\\w` and `\\W`.\n",
    "\n",
    "`\\B` | Matches where `\\b` does not, that is, the boundary of `\\w` characters.\n",
    "\n",
    "`\\A` | Matches the expression to its right at the absolute start of a string whether in single or multi-line mode.\n",
    "\n",
    "`\\Z` | Matches the expression to its left at the absolute end of a string whether in single or multi-line mode.\n",
    "\n"
   ]
  },
  {
   "cell_type": "markdown",
   "metadata": {},
   "source": [
    "<h2 style=\"text-align:center;background-color: lightgrey;color: blue;font-family: 'Lucida Console', 'Courier New', monospace;\">Sets</h2>\n",
    "\n",
    "`[ ]` | Contains a set of characters to match.\n",
    "\n",
    "`[amk]` | Matches either `a`, `m`, or `k`. It does not match amk.\n",
    "\n",
    "`[a-z]` | Matches any alphabet from `a` to `z`.\n",
    "\n",
    "`[a\\-z]` | Matches `a`, `-`, or `z`. It matches `-` because `\\` escapes it.\n",
    "\n",
    "`[a-]` | Matches `a` or `-`, because `-` is not being used to indicate a series of characters.\n",
    "\n",
    "`[-a]` | As above, matches `a` or `-`.\n",
    "\n",
    "`[a-z0-9]` | Matches characters from `a` to `z` and also from `0` to `9`.\n",
    "\n",
    "`[(+*)]` | Special characters become literal inside a set, so this matches `(`, `+`, `*`, and `)`.\n",
    "\n",
    "`[^ab5]` | Adding `^ `excludes any character in the set. Here, it matches characters that are not `a`, `b`, or `5`."
   ]
  },
  {
   "cell_type": "markdown",
   "metadata": {},
   "source": [
    "<h2 style=\"text-align:center;background-color: lightgrey;color: blue;font-family: 'Lucida Console', 'Courier New', monospace;\">Groups</h2>\n",
    "\n",
    "`( )` | Matches the expression inside the parentheses and groups it.\n",
    "\n",
    "`(? )` | Inside parentheses like this, `?` acts as an extension notation. Its meaning depends on the character immediately to its right.\n",
    "\n",
    "`(?PAB)` | Matches the expression `AB`, and it can be accessed with the group name.\n",
    "\n",
    "`(?aiLmsux)` | Here, `a`, `i`, `L`, `m`, `s`, `u`, and `x` are flags:\n",
    "\n",
    "- a — Matches ASCII only\n",
    "- i — Ignore case\n",
    "- L — Locale dependent\n",
    "- m — Multi-line\n",
    "- s — Matches all\n",
    "- u — Matches unicode\n",
    "- x — Verbose\n",
    "\n",
    "`(?:A)` | Matches the expression as represented by `A`, but unlike `(?PAB)`, it cannot be retrieved afterwards.\n",
    "\n",
    "`(?#...)` | A comment. Contents are for us to read, not for matching.\n",
    "\n",
    "`A(?=B)` | Lookahead assertion. This matches the expression `A` only if it is followed by `B`.\n",
    "\n",
    "`A(?!B)` | Negative lookahead assertion. This matches the expression `A` only if it is not followed by `B`.\n",
    "\n",
    "`(?<=B)A` | Positive lookbehind assertion. This matches the expression `A` only if `B` is immediately to its left. This can only matched fixed length expressions.\n",
    "\n",
    "`(?<!B)A`| Negative lookbehind assertion. This matches the expression `A` only if `B` is not immediately to its left. This can only matched fixed length expressions.\n",
    "\n",
    "`(?P=name)` | Matches the expression matched by an earlier group named “name”.\n",
    "\n",
    "`(...)\\1` | The number `1` corresponds to the first group to be matched. If we want to match more instances of the same expresion, simply use its number instead of writing out the whole expression again. We can use from `1` up to `99` such groups and their corresponding numbers."
   ]
  },
  {
   "cell_type": "markdown",
   "metadata": {},
   "source": [
    "<h2 style=\"text-align:center;background-color: lightgrey;color: blue;font-family: 'Lucida Console', 'Courier New', monospace;\">Popular `re` module Functions</h2>\n",
    "\n",
    "`re.findall(A, B)` | Matches all instances of an expression `A` in a string `B` and returns them in a list.\n",
    "\n",
    "`re.search(A, B)` | Matches the first instance of an expression `A` in a string `B`, and returns it as a re match object.\n",
    "\n",
    "`re.split(A, B)` | Split a string B into a list using the delimiter `A`.\n",
    "\n",
    "`re.sub(A, B, C)` | Replace `A` with `B` in the string `C`."
   ]
  },
  {
   "cell_type": "markdown",
   "metadata": {},
   "source": [
    "<h2 style=\"text-align:center;background-color: lightgrey;color: blue;font-family: 'Lucida Console', 'Courier New', monospace;\">Matching Regex Objects</h2>\n",
    "\n",
    "A Regex object’s `search()` method searches the string it is passed for any matches to the regex. The `search()` method will return None if the regex pattern is not found in the string. If the pattern is found, the `search()` method returns a Match object. Match objects have a `group()` method that will return the actual matched text from the searched string."
   ]
  },
  {
   "cell_type": "code",
   "execution_count": 7,
   "metadata": {},
   "outputs": [
    {
     "name": "stdout",
     "output_type": "stream",
     "text": [
      "Phone number found: 415-555-4242\n"
     ]
    }
   ],
   "source": [
    "phoneNumRegex = re.compile(r'\\d\\d\\d-\\d\\d\\d-\\d\\d\\d\\d')\n",
    "match_obj = phoneNumRegex.search('My number is 415-555-4242.')\n",
    "print('Phone number found: ' + match_obj.group())"
   ]
  },
  {
   "cell_type": "markdown",
   "metadata": {},
   "source": [
    "<h2 style=\"text-align:center;background-color: lightgrey;color: blue;font-family: 'Lucida Console', 'Courier New', monospace;\">Basic Patterns: Ordinary Characters</h2>\n",
    "\n",
    "You can easily tackle many basic patterns in Python using the ordinary characters. Ordinary characters are the simplest regular expressions. They match themselves exactly and do not have a special meaning in their regular expression syntax."
   ]
  },
  {
   "cell_type": "code",
   "execution_count": 8,
   "metadata": {},
   "outputs": [
    {
     "name": "stdout",
     "output_type": "stream",
     "text": [
      "Match!\n"
     ]
    }
   ],
   "source": [
    "pattern = r\"Mango\"\n",
    "sequence = \"Mango\"\n",
    "if re.match(pattern, sequence):\n",
    "    print(\"Match!\")\n",
    "else: \n",
    "    print(\"Not a match!\")"
   ]
  },
  {
   "cell_type": "markdown",
   "metadata": {},
   "source": [
    "The `match()` function returns a match object if the text matches the pattern. Otherwise it returns `None`."
   ]
  },
  {
   "cell_type": "code",
   "execution_count": 9,
   "metadata": {},
   "outputs": [
    {
     "name": "stdout",
     "output_type": "stream",
     "text": [
      "None\n"
     ]
    }
   ],
   "source": [
    "pattern = r\"Mango\"\n",
    "sequence = \"Orange\"\n",
    "print(re.match(pattern, sequence))"
   ]
  },
  {
   "cell_type": "markdown",
   "metadata": {},
   "source": [
    "<h2 style=\"text-align:center;background-color: lightgrey;color: blue;font-family: 'Lucida Console', 'Courier New', monospace;\">Wild Card Characters: Special Characters</h2>\n",
    "\n",
    "Special characters are characters which do not match themselves as seen but actually have a special meaning when used in a regular expression."
   ]
  },
  {
   "cell_type": "markdown",
   "metadata": {},
   "source": [
    "`.` - A period. Matches any single character except newline character."
   ]
  },
  {
   "cell_type": "code",
   "execution_count": 10,
   "metadata": {},
   "outputs": [
    {
     "data": {
      "text/plain": [
       "'Mango'"
      ]
     },
     "execution_count": 10,
     "metadata": {},
     "output_type": "execute_result"
    }
   ],
   "source": [
    "re.search(r'M.n.o', 'Mango').group()"
   ]
  },
  {
   "cell_type": "markdown",
   "metadata": {},
   "source": [
    "`\\w` - Lowercase w. Matches any single letter, digit or underscore."
   ]
  },
  {
   "cell_type": "code",
   "execution_count": 11,
   "metadata": {},
   "outputs": [
    {
     "data": {
      "text/plain": [
       "'Mango'"
      ]
     },
     "execution_count": 11,
     "metadata": {},
     "output_type": "execute_result"
    }
   ],
   "source": [
    "re.search(r'M\\wng\\w', 'Mango').group()"
   ]
  },
  {
   "cell_type": "markdown",
   "metadata": {},
   "source": [
    "`\\W` - Uppercase w. Matches any character not part of `\\w`(lowercase w)."
   ]
  },
  {
   "cell_type": "code",
   "execution_count": 12,
   "metadata": {},
   "outputs": [
    {
     "data": {
      "text/plain": [
       "'S@gmail'"
      ]
     },
     "execution_count": 12,
     "metadata": {},
     "output_type": "execute_result"
    }
   ],
   "source": [
    "re.search(r'S\\Wgmail', 'S@gmail').group()"
   ]
  },
  {
   "cell_type": "markdown",
   "metadata": {},
   "source": [
    "`\\s` - Lowercase s. Matches a single whitespace character like: space, newline, tab, return."
   ]
  },
  {
   "cell_type": "code",
   "execution_count": 13,
   "metadata": {},
   "outputs": [
    {
     "data": {
      "text/plain": [
       "'Eat cake'"
      ]
     },
     "execution_count": 13,
     "metadata": {},
     "output_type": "execute_result"
    }
   ],
   "source": [
    "re.search(r'Eat\\scake', 'Eat cake').group()"
   ]
  },
  {
   "cell_type": "markdown",
   "metadata": {},
   "source": [
    "`\\S` - Uppercase s. Matches any character not part of `\\s` (lowercase s)."
   ]
  },
  {
   "cell_type": "code",
   "execution_count": 14,
   "metadata": {},
   "outputs": [
    {
     "data": {
      "text/plain": [
       "'Mango'"
      ]
     },
     "execution_count": 14,
     "metadata": {},
     "output_type": "execute_result"
    }
   ],
   "source": [
    "re.search(r'M\\Sngo', 'Mango').group()"
   ]
  },
  {
   "cell_type": "markdown",
   "metadata": {},
   "source": [
    "`\\d` - Lowercase d. Matches decimal digit 0-9."
   ]
  },
  {
   "cell_type": "code",
   "execution_count": 15,
   "metadata": {},
   "outputs": [
    {
     "data": {
      "text/plain": [
       "'Mang0'"
      ]
     },
     "execution_count": 15,
     "metadata": {},
     "output_type": "execute_result"
    }
   ],
   "source": [
    "re.search(r'Mang\\d', 'Mang0').group()"
   ]
  },
  {
   "cell_type": "markdown",
   "metadata": {},
   "source": [
    "`^` - Caret. Matches a pattern at the start of the string."
   ]
  },
  {
   "cell_type": "code",
   "execution_count": 16,
   "metadata": {},
   "outputs": [
    {
     "data": {
      "text/plain": [
       "'Eat'"
      ]
     },
     "execution_count": 16,
     "metadata": {},
     "output_type": "execute_result"
    }
   ],
   "source": [
    "re.search(r'^Eat', 'Eat Rice').group()"
   ]
  },
  {
   "cell_type": "markdown",
   "metadata": {},
   "source": [
    "`$` - Matches a pattern at the end of string."
   ]
  },
  {
   "cell_type": "code",
   "execution_count": 17,
   "metadata": {},
   "outputs": [
    {
     "data": {
      "text/plain": [
       "'Rice'"
      ]
     },
     "execution_count": 17,
     "metadata": {},
     "output_type": "execute_result"
    }
   ],
   "source": [
    "re.search(r'Rice$', 'Eat Rice').group()"
   ]
  },
  {
   "cell_type": "markdown",
   "metadata": {},
   "source": [
    "`[a-zA-Z0-9]` - Matches any letter from (a to z) or (A to Z) or (0 to 9). Characters that are not within a range can be matched by complementing the set. If the first character of the set is` ^`, all the characters that are not in the set will be matched."
   ]
  },
  {
   "cell_type": "code",
   "execution_count": 18,
   "metadata": {},
   "outputs": [
    {
     "data": {
      "text/plain": [
       "'Number: 8'"
      ]
     },
     "execution_count": 18,
     "metadata": {},
     "output_type": "execute_result"
    }
   ],
   "source": [
    "re.search(r'Number: [0-9]', 'Number: 8').group()"
   ]
  },
  {
   "cell_type": "code",
   "execution_count": 19,
   "metadata": {},
   "outputs": [
    {
     "data": {
      "text/plain": [
       "'Number: 9'"
      ]
     },
     "execution_count": 19,
     "metadata": {},
     "output_type": "execute_result"
    }
   ],
   "source": [
    "# Matches any character except 7\n",
    "re.search(r'Number: [^7]', 'Number: 9').group()"
   ]
  },
  {
   "cell_type": "markdown",
   "metadata": {},
   "source": [
    "`\\A` - Uppercase a. Matches only at the start of the string. Works across multiple lines as well."
   ]
  },
  {
   "cell_type": "code",
   "execution_count": 20,
   "metadata": {},
   "outputs": [
    {
     "data": {
      "text/plain": [
       "'Rice'"
      ]
     },
     "execution_count": 20,
     "metadata": {},
     "output_type": "execute_result"
    }
   ],
   "source": [
    "re.search(r'\\A[A-R]ice', 'Rice').group()"
   ]
  },
  {
   "cell_type": "markdown",
   "metadata": {},
   "source": [
    "`\\b` - Lowercase b. Matches only the beginning or end of the word."
   ]
  },
  {
   "cell_type": "code",
   "execution_count": 21,
   "metadata": {},
   "outputs": [
    {
     "data": {
      "text/plain": [
       "'Rice'"
      ]
     },
     "execution_count": 21,
     "metadata": {},
     "output_type": "execute_result"
    }
   ],
   "source": [
    "re.search(r'\\b[A-R]ice', 'Rice').group()"
   ]
  },
  {
   "cell_type": "markdown",
   "metadata": {},
   "source": [
    "<h2 style=\"text-align:center;background-color: lightgrey;color: blue;font-family: 'Lucida Console', 'Courier New', monospace;\">Matching Zero or More with the Star</h2>\n",
    "\n",
    "The * (called the star or asterisk) means “match zero or more”—the group that precedes the star can occur any number of times in the text. It can be completely absent or repeated over and over again"
   ]
  },
  {
   "cell_type": "code",
   "execution_count": 22,
   "metadata": {},
   "outputs": [
    {
     "data": {
      "text/plain": [
       "'Superman'"
      ]
     },
     "execution_count": 22,
     "metadata": {},
     "output_type": "execute_result"
    }
   ],
   "source": [
    "superRegex = re.compile(r'Super(wo)*man')\n",
    "match_obj1 = superRegex.search('The Adventures of Superman')\n",
    "match_obj1.group()\n"
   ]
  },
  {
   "cell_type": "code",
   "execution_count": 23,
   "metadata": {},
   "outputs": [
    {
     "data": {
      "text/plain": [
       "'Superwoman'"
      ]
     },
     "execution_count": 23,
     "metadata": {},
     "output_type": "execute_result"
    }
   ],
   "source": [
    "mo2 = superRegex.search('The Adventures of Superwoman')\n",
    "mo2.group()"
   ]
  },
  {
   "cell_type": "code",
   "execution_count": 24,
   "metadata": {},
   "outputs": [
    {
     "data": {
      "text/plain": [
       "'Superwowowowoman'"
      ]
     },
     "execution_count": 24,
     "metadata": {},
     "output_type": "execute_result"
    }
   ],
   "source": [
    "mo3 = superRegex.search('The Adventures of Superwowowowoman')\n",
    "mo3.group()"
   ]
  },
  {
   "cell_type": "markdown",
   "metadata": {},
   "source": [
    "## Matching One or More with the Plus\n",
    "While * means “match zero or more,” the + (or plus) means “match one or more.” Unlike the star, which does not require its group to appear in the matched string, the group preceding a plus must appear at least once. It is not optional. "
   ]
  },
  {
   "cell_type": "code",
   "execution_count": 25,
   "metadata": {},
   "outputs": [
    {
     "data": {
      "text/plain": [
       "'Superwoman'"
      ]
     },
     "execution_count": 25,
     "metadata": {},
     "output_type": "execute_result"
    }
   ],
   "source": [
    "superRegex = re.compile(r'Super(wo)+man')\n",
    "match_obj1 = superRegex.search('The Adventures of Superwoman')\n",
    "match_obj1.group()\n"
   ]
  },
  {
   "cell_type": "code",
   "execution_count": 26,
   "metadata": {},
   "outputs": [
    {
     "data": {
      "text/plain": [
       "'Superwowowowoman'"
      ]
     },
     "execution_count": 26,
     "metadata": {},
     "output_type": "execute_result"
    }
   ],
   "source": [
    "match_obj2 = superRegex.search('The Adventures of Superwowowowoman')\n",
    "match_obj2.group()"
   ]
  },
  {
   "cell_type": "code",
   "execution_count": 27,
   "metadata": {},
   "outputs": [
    {
     "data": {
      "text/plain": [
       "True"
      ]
     },
     "execution_count": 27,
     "metadata": {},
     "output_type": "execute_result"
    }
   ],
   "source": [
    "match_obj3 = superRegex.search('The Adventures of Superman')\n",
    "# match_obj3.group()\n",
    "match_obj3==None"
   ]
  },
  {
   "cell_type": "markdown",
   "metadata": {},
   "source": [
    "## The question mark\n",
    "The question mark `?`, unlike the dot, doesn't replace any character by itself. It is a quantifier that basically means \"the previous character can be absent\". In other words, the question mark `?` signals that the character before it can occur once or zero times in a string to match the pattern"
   ]
  },
  {
   "cell_type": "code",
   "execution_count": 28,
   "metadata": {
    "execution": {
     "iopub.execute_input": "2021-12-27T14:21:08.219518Z",
     "iopub.status.busy": "2021-12-27T14:21:08.219040Z",
     "iopub.status.idle": "2021-12-27T14:21:08.227217Z",
     "shell.execute_reply": "2021-12-27T14:21:08.226277Z",
     "shell.execute_reply.started": "2021-12-27T14:21:08.219463Z"
    }
   },
   "outputs": [
    {
     "data": {
      "text/plain": [
       "'Color'"
      ]
     },
     "execution_count": 28,
     "metadata": {},
     "output_type": "execute_result"
    }
   ],
   "source": [
    "re.search(r'Colou?r', 'Color').group()"
   ]
  },
  {
   "cell_type": "code",
   "execution_count": 29,
   "metadata": {
    "execution": {
     "iopub.execute_input": "2021-12-27T14:21:48.555542Z",
     "iopub.status.busy": "2021-12-27T14:21:48.554973Z",
     "iopub.status.idle": "2021-12-27T14:21:48.560710Z",
     "shell.execute_reply": "2021-12-27T14:21:48.560040Z",
     "shell.execute_reply.started": "2021-12-27T14:21:48.555492Z"
    }
   },
   "outputs": [
    {
     "name": "stdout",
     "output_type": "stream",
     "text": [
      "<_sre.SRE_Match object; span=(0, 4), match='Indi'>\n",
      "<_sre.SRE_Match object; span=(0, 5), match='India'>\n"
     ]
    }
   ],
   "source": [
    "regexp = 'India?'\n",
    "word1 = re.match(regexp, 'Indi')\n",
    "print(word1)\n",
    "word2 = re.match(regexp, 'India')\n",
    "print(word2)"
   ]
  },
  {
   "cell_type": "markdown",
   "metadata": {},
   "source": [
    "`{x}` - Repeat exactly x number of times.\n",
    "\n",
    "`{x,}` - Repeat at least x times or more.\n",
    "\n",
    "`{x, y}` - Repeat at least x times but no more than y times."
   ]
  },
  {
   "cell_type": "code",
   "execution_count": 30,
   "metadata": {},
   "outputs": [
    {
     "data": {
      "text/plain": [
       "'0987654321'"
      ]
     },
     "execution_count": 30,
     "metadata": {},
     "output_type": "execute_result"
    }
   ],
   "source": [
    "re.search(r'\\d{9,10}', '0987654321').group()"
   ]
  },
  {
   "cell_type": "markdown",
   "metadata": {},
   "source": [
    "## re.match(pattern, string):\n",
    "This method finds match if it occurs at start of the string. For example, calling `match()` on the string ‘Rua Analytics’ and looking for a pattern ‘Rua’ will match. However, if we look for only Analytics, the pattern will not match. "
   ]
  },
  {
   "cell_type": "code",
   "execution_count": 31,
   "metadata": {},
   "outputs": [
    {
     "name": "stdout",
     "output_type": "stream",
     "text": [
      "<_sre.SRE_Match object; span=(0, 3), match='Rua'>\n"
     ]
    }
   ],
   "source": [
    "result = re.match(r'Rua', 'Rua Analytics')\n",
    "print(result)"
   ]
  },
  {
   "cell_type": "code",
   "execution_count": 32,
   "metadata": {},
   "outputs": [
    {
     "name": "stdout",
     "output_type": "stream",
     "text": [
      "Rua\n"
     ]
    }
   ],
   "source": [
    "print(result.group(0))"
   ]
  },
  {
   "cell_type": "markdown",
   "metadata": {},
   "source": [
    "## re.search(pattern, string):\n",
    "It is similar to` match()` but it doesn’t restrict us to find matches at the beginning of the string only."
   ]
  },
  {
   "cell_type": "code",
   "execution_count": 33,
   "metadata": {},
   "outputs": [
    {
     "name": "stdout",
     "output_type": "stream",
     "text": [
      "Analytics\n"
     ]
    }
   ],
   "source": [
    "result = re.search(r'Analytics', 'Rua Analytics')\n",
    "print(result.group(0))"
   ]
  },
  {
   "cell_type": "markdown",
   "metadata": {},
   "source": [
    "## re.findall (pattern, string):\n",
    "It helps to get a list of all matching patterns. It has no constraints of searching from start or end. If we will use method findall to search ‘Rua’ in given string it will return both occurrence of Rua. While searching a string, I would recommend you to use `re.findall()` always, it can work like `re.search()` and `re.match()` both."
   ]
  },
  {
   "cell_type": "code",
   "execution_count": 34,
   "metadata": {},
   "outputs": [
    {
     "name": "stdout",
     "output_type": "stream",
     "text": [
      "['Rua', 'Rua']\n"
     ]
    }
   ],
   "source": [
    "\n",
    "result = re.findall(r'Rua', 'Rua Analytics Rua')\n",
    "print(result)"
   ]
  },
  {
   "cell_type": "markdown",
   "metadata": {},
   "source": [
    "## re.split(pattern, string, [maxsplit=0]):\n",
    "This methods helps to split string by the occurrences of given pattern."
   ]
  },
  {
   "cell_type": "code",
   "execution_count": 35,
   "metadata": {},
   "outputs": [
    {
     "name": "stdout",
     "output_type": "stream",
     "text": [
      "['occurr', 'nc', 's']\n"
     ]
    }
   ],
   "source": [
    "result=re.split(r'e','occurrences')\n",
    "print(result)"
   ]
  },
  {
   "cell_type": "code",
   "execution_count": 36,
   "metadata": {},
   "outputs": [
    {
     "name": "stdout",
     "output_type": "stream",
     "text": [
      "['It', 'helps', 'to', 'get', 'a', 'list', 'of', 'all', 'matching', 'patterns']\n"
     ]
    }
   ],
   "source": [
    "\n",
    "\n",
    "result=re.split(r'\\s','It helps to get a list of all matching patterns')\n",
    "print(result)"
   ]
  },
  {
   "cell_type": "markdown",
   "metadata": {},
   "source": [
    "## re.sub(pattern, repl, string):\n",
    "It helps to search a pattern and replace with a new sub string. If the pattern is not found, string is returned unchanged."
   ]
  },
  {
   "cell_type": "code",
   "execution_count": 37,
   "metadata": {},
   "outputs": [
    {
     "name": "stdout",
     "output_type": "stream",
     "text": [
      "Kaggle is the place to do data science projects\n"
     ]
    }
   ],
   "source": [
    "result=re.sub(r'notes','projects','Kaggle is the place to do data science notes')\n",
    "print(result)"
   ]
  },
  {
   "cell_type": "code",
   "execution_count": 38,
   "metadata": {},
   "outputs": [],
   "source": []
  },
  {
   "cell_type": "code",
   "execution_count": 38,
   "metadata": {},
   "outputs": [],
   "source": []
  },
  {
   "cell_type": "code",
   "execution_count": 38,
   "metadata": {},
   "outputs": [],
   "source": []
  },
  {
   "cell_type": "code",
   "execution_count": 38,
   "metadata": {},
   "outputs": [],
   "source": []
  }
 ],
 "metadata": {
  "kernelspec": {
   "display_name": "Python 3",
   "language": "python",
   "name": "python3"
  },
  "language_info": {
   "codemirror_mode": {
    "name": "ipython",
    "version": 3
   },
   "file_extension": ".py",
   "mimetype": "text/x-python",
   "name": "python",
   "nbconvert_exporter": "python",
   "pygments_lexer": "ipython3",
   "version": "3.6.4"
  }
 },
 "nbformat": 4,
 "nbformat_minor": 4
}
